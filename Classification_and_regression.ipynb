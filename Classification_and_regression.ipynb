{
 "cells": [
  {
   "cell_type": "markdown",
   "id": "15f3244a",
   "metadata": {},
   "source": [
    "# Classificação e Regressão."
   ]
  },
  {
   "cell_type": "markdown",
   "id": "f08e05b3",
   "metadata": {},
   "source": [
    "#### Importando bibliotecas"
   ]
  },
  {
   "cell_type": "code",
   "execution_count": 121,
   "id": "6ba69467",
   "metadata": {},
   "outputs": [],
   "source": [
    "import pandas as pd\n",
    "import numpy as np\n",
    "\n",
    "# \n",
    "from sklearn import linear_model\n",
    "from sklearn.linear_model import LinearRegression\n",
    "from sklearn.preprocessing import MinMaxScaler\n",
    "\n",
    "# Separação dos Dados entre treino e teste\n",
    "from sklearn.model_selection import train_test_split\n",
    "\n",
    "# Análise dos Erros\n",
    "from sklearn.metrics import mean_squared_error\n",
    "from sklearn.metrics import r2_score\n",
    "\n",
    "# graficos\n",
    "import matplotlib.pyplot as plt\n",
    "import matplotlib.pylab as pylab\n",
    "import seaborn as sns\n",
    "\n",
    "# Mensagens\n",
    "import warnings\n",
    "warnings.filterwarnings('ignore')\n"
   ]
  },
  {
   "cell_type": "markdown",
   "id": "3fd41e2e",
   "metadata": {},
   "source": [
    "#### Lendo arquivo CSV"
   ]
  },
  {
   "cell_type": "code",
   "execution_count": 122,
   "id": "223b3950",
   "metadata": {},
   "outputs": [],
   "source": [
    "dados = pd.read_csv(\"FuelConsumptionCo2.csv\")"
   ]
  },
  {
   "cell_type": "markdown",
   "id": "4666fcd7",
   "metadata": {},
   "source": [
    "#### Nomes das features do dataset."
   ]
  },
  {
   "cell_type": "code",
   "execution_count": 123,
   "id": "156bf04e",
   "metadata": {},
   "outputs": [
    {
     "data": {
      "text/plain": [
       "Index(['MODELYEAR', 'MAKE', 'MODEL', 'VEHICLECLASS', 'ENGINESIZE', 'CYLINDERS',\n",
       "       'TRANSMISSION', 'FUELTYPE', 'FUELCONSUMPTION_CITY',\n",
       "       'FUELCONSUMPTION_HWY', 'FUELCONSUMPTION_COMB',\n",
       "       'FUELCONSUMPTION_COMB_MPG', 'CO2EMISSIONS'],\n",
       "      dtype='object')"
      ]
     },
     "execution_count": 123,
     "metadata": {},
     "output_type": "execute_result"
    }
   ],
   "source": [
    "dados.columns"
   ]
  },
  {
   "cell_type": "markdown",
   "id": "583c5cf9",
   "metadata": {},
   "source": [
    "#### Verificando campos nulos."
   ]
  },
  {
   "cell_type": "code",
   "execution_count": 124,
   "id": "9ff6f0c4",
   "metadata": {},
   "outputs": [
    {
     "data": {
      "text/plain": [
       "MODELYEAR                   0\n",
       "MAKE                        0\n",
       "MODEL                       0\n",
       "VEHICLECLASS                0\n",
       "ENGINESIZE                  0\n",
       "CYLINDERS                   0\n",
       "TRANSMISSION                0\n",
       "FUELTYPE                    0\n",
       "FUELCONSUMPTION_CITY        0\n",
       "FUELCONSUMPTION_HWY         0\n",
       "FUELCONSUMPTION_COMB        0\n",
       "FUELCONSUMPTION_COMB_MPG    0\n",
       "CO2EMISSIONS                0\n",
       "dtype: int64"
      ]
     },
     "execution_count": 124,
     "metadata": {},
     "output_type": "execute_result"
    }
   ],
   "source": [
    "dados.isnull().sum()"
   ]
  },
  {
   "cell_type": "markdown",
   "id": "3aac7c63",
   "metadata": {},
   "source": [
    "#### Tipos de dados de cada features."
   ]
  },
  {
   "cell_type": "code",
   "execution_count": 125,
   "id": "dcbb5675",
   "metadata": {},
   "outputs": [
    {
     "data": {
      "text/plain": [
       "MODELYEAR                     int64\n",
       "MAKE                         object\n",
       "MODEL                        object\n",
       "VEHICLECLASS                 object\n",
       "ENGINESIZE                  float64\n",
       "CYLINDERS                     int64\n",
       "TRANSMISSION                 object\n",
       "FUELTYPE                     object\n",
       "FUELCONSUMPTION_CITY        float64\n",
       "FUELCONSUMPTION_HWY         float64\n",
       "FUELCONSUMPTION_COMB        float64\n",
       "FUELCONSUMPTION_COMB_MPG      int64\n",
       "CO2EMISSIONS                  int64\n",
       "dtype: object"
      ]
     },
     "execution_count": 125,
     "metadata": {},
     "output_type": "execute_result"
    }
   ],
   "source": [
    "dados.dtypes"
   ]
  },
  {
   "cell_type": "markdown",
   "id": "3966db73",
   "metadata": {},
   "source": [
    "#### Ultimas 5 amostras."
   ]
  },
  {
   "cell_type": "code",
   "execution_count": 126,
   "id": "77990469",
   "metadata": {},
   "outputs": [
    {
     "data": {
      "text/html": [
       "<div>\n",
       "<style scoped>\n",
       "    .dataframe tbody tr th:only-of-type {\n",
       "        vertical-align: middle;\n",
       "    }\n",
       "\n",
       "    .dataframe tbody tr th {\n",
       "        vertical-align: top;\n",
       "    }\n",
       "\n",
       "    .dataframe thead th {\n",
       "        text-align: right;\n",
       "    }\n",
       "</style>\n",
       "<table border=\"1\" class=\"dataframe\">\n",
       "  <thead>\n",
       "    <tr style=\"text-align: right;\">\n",
       "      <th></th>\n",
       "      <th>MODELYEAR</th>\n",
       "      <th>MAKE</th>\n",
       "      <th>MODEL</th>\n",
       "      <th>VEHICLECLASS</th>\n",
       "      <th>ENGINESIZE</th>\n",
       "      <th>CYLINDERS</th>\n",
       "      <th>TRANSMISSION</th>\n",
       "      <th>FUELTYPE</th>\n",
       "      <th>FUELCONSUMPTION_CITY</th>\n",
       "      <th>FUELCONSUMPTION_HWY</th>\n",
       "      <th>FUELCONSUMPTION_COMB</th>\n",
       "      <th>FUELCONSUMPTION_COMB_MPG</th>\n",
       "      <th>CO2EMISSIONS</th>\n",
       "    </tr>\n",
       "  </thead>\n",
       "  <tbody>\n",
       "    <tr>\n",
       "      <th>1062</th>\n",
       "      <td>2014</td>\n",
       "      <td>VOLVO</td>\n",
       "      <td>XC60 AWD</td>\n",
       "      <td>SUV - SMALL</td>\n",
       "      <td>3.0</td>\n",
       "      <td>6</td>\n",
       "      <td>AS6</td>\n",
       "      <td>X</td>\n",
       "      <td>13.4</td>\n",
       "      <td>9.8</td>\n",
       "      <td>11.8</td>\n",
       "      <td>24</td>\n",
       "      <td>271</td>\n",
       "    </tr>\n",
       "    <tr>\n",
       "      <th>1063</th>\n",
       "      <td>2014</td>\n",
       "      <td>VOLVO</td>\n",
       "      <td>XC60 AWD</td>\n",
       "      <td>SUV - SMALL</td>\n",
       "      <td>3.2</td>\n",
       "      <td>6</td>\n",
       "      <td>AS6</td>\n",
       "      <td>X</td>\n",
       "      <td>13.2</td>\n",
       "      <td>9.5</td>\n",
       "      <td>11.5</td>\n",
       "      <td>25</td>\n",
       "      <td>264</td>\n",
       "    </tr>\n",
       "    <tr>\n",
       "      <th>1064</th>\n",
       "      <td>2014</td>\n",
       "      <td>VOLVO</td>\n",
       "      <td>XC70 AWD</td>\n",
       "      <td>SUV - SMALL</td>\n",
       "      <td>3.0</td>\n",
       "      <td>6</td>\n",
       "      <td>AS6</td>\n",
       "      <td>X</td>\n",
       "      <td>13.4</td>\n",
       "      <td>9.8</td>\n",
       "      <td>11.8</td>\n",
       "      <td>24</td>\n",
       "      <td>271</td>\n",
       "    </tr>\n",
       "    <tr>\n",
       "      <th>1065</th>\n",
       "      <td>2014</td>\n",
       "      <td>VOLVO</td>\n",
       "      <td>XC70 AWD</td>\n",
       "      <td>SUV - SMALL</td>\n",
       "      <td>3.2</td>\n",
       "      <td>6</td>\n",
       "      <td>AS6</td>\n",
       "      <td>X</td>\n",
       "      <td>12.9</td>\n",
       "      <td>9.3</td>\n",
       "      <td>11.3</td>\n",
       "      <td>25</td>\n",
       "      <td>260</td>\n",
       "    </tr>\n",
       "    <tr>\n",
       "      <th>1066</th>\n",
       "      <td>2014</td>\n",
       "      <td>VOLVO</td>\n",
       "      <td>XC90 AWD</td>\n",
       "      <td>SUV - STANDARD</td>\n",
       "      <td>3.2</td>\n",
       "      <td>6</td>\n",
       "      <td>AS6</td>\n",
       "      <td>X</td>\n",
       "      <td>14.9</td>\n",
       "      <td>10.2</td>\n",
       "      <td>12.8</td>\n",
       "      <td>22</td>\n",
       "      <td>294</td>\n",
       "    </tr>\n",
       "  </tbody>\n",
       "</table>\n",
       "</div>"
      ],
      "text/plain": [
       "      MODELYEAR   MAKE     MODEL    VEHICLECLASS  ENGINESIZE  CYLINDERS  \\\n",
       "1062       2014  VOLVO  XC60 AWD     SUV - SMALL         3.0          6   \n",
       "1063       2014  VOLVO  XC60 AWD     SUV - SMALL         3.2          6   \n",
       "1064       2014  VOLVO  XC70 AWD     SUV - SMALL         3.0          6   \n",
       "1065       2014  VOLVO  XC70 AWD     SUV - SMALL         3.2          6   \n",
       "1066       2014  VOLVO  XC90 AWD  SUV - STANDARD         3.2          6   \n",
       "\n",
       "     TRANSMISSION FUELTYPE  FUELCONSUMPTION_CITY  FUELCONSUMPTION_HWY  \\\n",
       "1062          AS6        X                  13.4                  9.8   \n",
       "1063          AS6        X                  13.2                  9.5   \n",
       "1064          AS6        X                  13.4                  9.8   \n",
       "1065          AS6        X                  12.9                  9.3   \n",
       "1066          AS6        X                  14.9                 10.2   \n",
       "\n",
       "      FUELCONSUMPTION_COMB  FUELCONSUMPTION_COMB_MPG  CO2EMISSIONS  \n",
       "1062                  11.8                        24           271  \n",
       "1063                  11.5                        25           264  \n",
       "1064                  11.8                        24           271  \n",
       "1065                  11.3                        25           260  \n",
       "1066                  12.8                        22           294  "
      ]
     },
     "execution_count": 126,
     "metadata": {},
     "output_type": "execute_result"
    }
   ],
   "source": [
    "dados.tail()"
   ]
  },
  {
   "cell_type": "markdown",
   "id": "fb1d0700",
   "metadata": {},
   "source": [
    "### 1. Exibir a Matriz de Correlação entre as variáveis "
   ]
  },
  {
   "cell_type": "code",
   "execution_count": 127,
   "id": "f7855049",
   "metadata": {},
   "outputs": [
    {
     "name": "stdout",
     "output_type": "stream",
     "text": [
      "==================================================\n",
      "Analisando Correlação\n"
     ]
    },
    {
     "data": {
      "image/png": "[encoded data removed]",
      "text/plain": [
       "<Figure size 800x800 with 2 Axes>"
      ]
     },
     "metadata": {},
     "output_type": "display_data"
    }
   ],
   "source": [
    "print(\"=\"*50)\n",
    "print(\"Analisando Correlação\")\n",
    "plt.figure(figsize = (8,8))\n",
    "sns.heatmap(dados.corr(), annot = True, cmap = 'Reds')\n",
    "plt.title(f\"Matriz de Correlação de Variáveis - Dados\")\n",
    "plt.show()"
   ]
  },
  {
   "cell_type": "markdown",
   "id": "a03225ea",
   "metadata": {},
   "source": [
    "### 2. Executar um algoritmo para realizar a Seleção de Features mais relevantes para o modelo"
   ]
  },
  {
   "cell_type": "code",
   "execution_count": 128,
   "id": "a54dac32",
   "metadata": {},
   "outputs": [
    {
     "data": {
      "text/html": [
       "<div>\n",
       "<style scoped>\n",
       "    .dataframe tbody tr th:only-of-type {\n",
       "        vertical-align: middle;\n",
       "    }\n",
       "\n",
       "    .dataframe tbody tr th {\n",
       "        vertical-align: top;\n",
       "    }\n",
       "\n",
       "    .dataframe thead th {\n",
       "        text-align: right;\n",
       "    }\n",
       "</style>\n",
       "<table border=\"1\" class=\"dataframe\">\n",
       "  <thead>\n",
       "    <tr style=\"text-align: right;\">\n",
       "      <th></th>\n",
       "      <th>CO2EMISSIONS</th>\n",
       "      <th>FUELCONSUMPTION_COMB_MPG</th>\n",
       "      <th>FUELCONSUMPTION_COMB</th>\n",
       "      <th>ENGINESIZE</th>\n",
       "      <th>FUELCONSUMPTION_HWY</th>\n",
       "    </tr>\n",
       "  </thead>\n",
       "  <tbody>\n",
       "    <tr>\n",
       "      <th>1062</th>\n",
       "      <td>271</td>\n",
       "      <td>24</td>\n",
       "      <td>11.8</td>\n",
       "      <td>3.0</td>\n",
       "      <td>9.8</td>\n",
       "    </tr>\n",
       "    <tr>\n",
       "      <th>1063</th>\n",
       "      <td>264</td>\n",
       "      <td>25</td>\n",
       "      <td>11.5</td>\n",
       "      <td>3.2</td>\n",
       "      <td>9.5</td>\n",
       "    </tr>\n",
       "    <tr>\n",
       "      <th>1064</th>\n",
       "      <td>271</td>\n",
       "      <td>24</td>\n",
       "      <td>11.8</td>\n",
       "      <td>3.0</td>\n",
       "      <td>9.8</td>\n",
       "    </tr>\n",
       "    <tr>\n",
       "      <th>1065</th>\n",
       "      <td>260</td>\n",
       "      <td>25</td>\n",
       "      <td>11.3</td>\n",
       "      <td>3.2</td>\n",
       "      <td>9.3</td>\n",
       "    </tr>\n",
       "    <tr>\n",
       "      <th>1066</th>\n",
       "      <td>294</td>\n",
       "      <td>22</td>\n",
       "      <td>12.8</td>\n",
       "      <td>3.2</td>\n",
       "      <td>10.2</td>\n",
       "    </tr>\n",
       "  </tbody>\n",
       "</table>\n",
       "</div>"
      ],
      "text/plain": [
       "      CO2EMISSIONS  FUELCONSUMPTION_COMB_MPG  FUELCONSUMPTION_COMB  \\\n",
       "1062           271                        24                  11.8   \n",
       "1063           264                        25                  11.5   \n",
       "1064           271                        24                  11.8   \n",
       "1065           260                        25                  11.3   \n",
       "1066           294                        22                  12.8   \n",
       "\n",
       "      ENGINESIZE  FUELCONSUMPTION_HWY  \n",
       "1062         3.0                  9.8  \n",
       "1063         3.2                  9.5  \n",
       "1064         3.0                  9.8  \n",
       "1065         3.2                  9.3  \n",
       "1066         3.2                 10.2  "
      ]
     },
     "execution_count": 128,
     "metadata": {},
     "output_type": "execute_result"
    }
   ],
   "source": [
    "dados2 = dados[['CO2EMISSIONS','FUELCONSUMPTION_COMB_MPG', 'FUELCONSUMPTION_COMB', 'ENGINESIZE', 'FUELCONSUMPTION_HWY']]\n",
    "dados2.tail()"
   ]
  },
  {
   "cell_type": "code",
   "execution_count": 129,
   "id": "35f79314",
   "metadata": {},
   "outputs": [
    {
     "data": {
      "text/html": [
       "<div>\n",
       "<style scoped>\n",
       "    .dataframe tbody tr th:only-of-type {\n",
       "        vertical-align: middle;\n",
       "    }\n",
       "\n",
       "    .dataframe tbody tr th {\n",
       "        vertical-align: top;\n",
       "    }\n",
       "\n",
       "    .dataframe thead th {\n",
       "        text-align: right;\n",
       "    }\n",
       "</style>\n",
       "<table border=\"1\" class=\"dataframe\">\n",
       "  <thead>\n",
       "    <tr style=\"text-align: right;\">\n",
       "      <th></th>\n",
       "      <th>ENGINESIZE</th>\n",
       "      <th>CYLINDERS</th>\n",
       "      <th>FUELCONSUMPTION_COMB</th>\n",
       "      <th>CO2EMISSIONS</th>\n",
       "    </tr>\n",
       "  </thead>\n",
       "  <tbody>\n",
       "    <tr>\n",
       "      <th>1062</th>\n",
       "      <td>3.0</td>\n",
       "      <td>6</td>\n",
       "      <td>11.8</td>\n",
       "      <td>271</td>\n",
       "    </tr>\n",
       "    <tr>\n",
       "      <th>1063</th>\n",
       "      <td>3.2</td>\n",
       "      <td>6</td>\n",
       "      <td>11.5</td>\n",
       "      <td>264</td>\n",
       "    </tr>\n",
       "    <tr>\n",
       "      <th>1064</th>\n",
       "      <td>3.0</td>\n",
       "      <td>6</td>\n",
       "      <td>11.8</td>\n",
       "      <td>271</td>\n",
       "    </tr>\n",
       "    <tr>\n",
       "      <th>1065</th>\n",
       "      <td>3.2</td>\n",
       "      <td>6</td>\n",
       "      <td>11.3</td>\n",
       "      <td>260</td>\n",
       "    </tr>\n",
       "    <tr>\n",
       "      <th>1066</th>\n",
       "      <td>3.2</td>\n",
       "      <td>6</td>\n",
       "      <td>12.8</td>\n",
       "      <td>294</td>\n",
       "    </tr>\n",
       "  </tbody>\n",
       "</table>\n",
       "</div>"
      ],
      "text/plain": [
       "      ENGINESIZE  CYLINDERS  FUELCONSUMPTION_COMB  CO2EMISSIONS\n",
       "1062         3.0          6                  11.8           271\n",
       "1063         3.2          6                  11.5           264\n",
       "1064         3.0          6                  11.8           271\n",
       "1065         3.2          6                  11.3           260\n",
       "1066         3.2          6                  12.8           294"
      ]
     },
     "execution_count": 129,
     "metadata": {},
     "output_type": "execute_result"
    }
   ],
   "source": [
    "dados3 = dados[['ENGINESIZE','CYLINDERS', 'FUELCONSUMPTION_COMB', 'CO2EMISSIONS']]\n",
    "dados3.tail()"
   ]
  },
  {
   "cell_type": "markdown",
   "id": "6c8049ee",
   "metadata": {},
   "source": [
    "### 3. Atualize os nomes das seguintes colunas para facilitar a identificação no modelo"
   ]
  },
  {
   "cell_type": "code",
   "execution_count": 130,
   "id": "2bd1aeb5",
   "metadata": {},
   "outputs": [
    {
     "data": {
      "text/html": [
       "<div>\n",
       "<style scoped>\n",
       "    .dataframe tbody tr th:only-of-type {\n",
       "        vertical-align: middle;\n",
       "    }\n",
       "\n",
       "    .dataframe tbody tr th {\n",
       "        vertical-align: top;\n",
       "    }\n",
       "\n",
       "    .dataframe thead th {\n",
       "        text-align: right;\n",
       "    }\n",
       "</style>\n",
       "<table border=\"1\" class=\"dataframe\">\n",
       "  <thead>\n",
       "    <tr style=\"text-align: right;\">\n",
       "      <th></th>\n",
       "      <th>CO2EMISSIONS</th>\n",
       "      <th>FUELCONSCOMBMPG</th>\n",
       "      <th>FUELCONSCOMB</th>\n",
       "      <th>TAM_MOTOR</th>\n",
       "      <th>FUELCONSHWY</th>\n",
       "    </tr>\n",
       "  </thead>\n",
       "  <tbody>\n",
       "    <tr>\n",
       "      <th>726</th>\n",
       "      <td>242</td>\n",
       "      <td>27</td>\n",
       "      <td>10.5</td>\n",
       "      <td>3.5</td>\n",
       "      <td>8.6</td>\n",
       "    </tr>\n",
       "    <tr>\n",
       "      <th>540</th>\n",
       "      <td>271</td>\n",
       "      <td>24</td>\n",
       "      <td>11.8</td>\n",
       "      <td>3.7</td>\n",
       "      <td>9.6</td>\n",
       "    </tr>\n",
       "    <tr>\n",
       "      <th>153</th>\n",
       "      <td>228</td>\n",
       "      <td>29</td>\n",
       "      <td>9.9</td>\n",
       "      <td>2.0</td>\n",
       "      <td>7.9</td>\n",
       "    </tr>\n",
       "  </tbody>\n",
       "</table>\n",
       "</div>"
      ],
      "text/plain": [
       "     CO2EMISSIONS  FUELCONSCOMBMPG  FUELCONSCOMB  TAM_MOTOR  FUELCONSHWY\n",
       "726           242               27          10.5        3.5          8.6\n",
       "540           271               24          11.8        3.7          9.6\n",
       "153           228               29           9.9        2.0          7.9"
      ]
     },
     "execution_count": 130,
     "metadata": {},
     "output_type": "execute_result"
    }
   ],
   "source": [
    "dados2 = dados2.rename(columns={ 'FUELCONSUMPTION_COMB_MPG':'FUELCONSCOMBMPG','FUELCONSUMPTION_COMB':'FUELCONSCOMB','ENGINESIZE':'TAM_MOTOR', 'FUELCONSUMPTION_HWY':'FUELCONSHWY'})\n",
    "dados2.sample(3)"
   ]
  },
  {
   "cell_type": "code",
   "execution_count": 131,
   "id": "3a442006",
   "metadata": {},
   "outputs": [
    {
     "data": {
      "text/html": [
       "<div>\n",
       "<style scoped>\n",
       "    .dataframe tbody tr th:only-of-type {\n",
       "        vertical-align: middle;\n",
       "    }\n",
       "\n",
       "    .dataframe tbody tr th {\n",
       "        vertical-align: top;\n",
       "    }\n",
       "\n",
       "    .dataframe thead th {\n",
       "        text-align: right;\n",
       "    }\n",
       "</style>\n",
       "<table border=\"1\" class=\"dataframe\">\n",
       "  <thead>\n",
       "    <tr style=\"text-align: right;\">\n",
       "      <th></th>\n",
       "      <th>ENGINESIZE</th>\n",
       "      <th>CYLINDERS</th>\n",
       "      <th>FUELCONSCOMB</th>\n",
       "      <th>CO2EMISSIONS</th>\n",
       "    </tr>\n",
       "  </thead>\n",
       "  <tbody>\n",
       "    <tr>\n",
       "      <th>835</th>\n",
       "      <td>3.7</td>\n",
       "      <td>6</td>\n",
       "      <td>11.7</td>\n",
       "      <td>269</td>\n",
       "    </tr>\n",
       "    <tr>\n",
       "      <th>864</th>\n",
       "      <td>4.0</td>\n",
       "      <td>6</td>\n",
       "      <td>13.7</td>\n",
       "      <td>315</td>\n",
       "    </tr>\n",
       "    <tr>\n",
       "      <th>997</th>\n",
       "      <td>2.7</td>\n",
       "      <td>4</td>\n",
       "      <td>10.2</td>\n",
       "      <td>235</td>\n",
       "    </tr>\n",
       "  </tbody>\n",
       "</table>\n",
       "</div>"
      ],
      "text/plain": [
       "     ENGINESIZE  CYLINDERS  FUELCONSCOMB  CO2EMISSIONS\n",
       "835         3.7          6          11.7           269\n",
       "864         4.0          6          13.7           315\n",
       "997         2.7          4          10.2           235"
      ]
     },
     "execution_count": 131,
     "metadata": {},
     "output_type": "execute_result"
    }
   ],
   "source": [
    "dados3 = dados3.rename(columns={ 'FUELCONSUMPTION_COMB':'FUELCONSCOMB'})\n",
    "dados3.sample(3)"
   ]
  },
  {
   "cell_type": "markdown",
   "id": "024e59e3",
   "metadata": {},
   "source": [
    "### 4. Crie um novo dataframe com as features mais relevantes"
   ]
  },
  {
   "cell_type": "code",
   "execution_count": 132,
   "id": "afcb09ca",
   "metadata": {},
   "outputs": [
    {
     "data": {
      "text/html": [
       "<div>\n",
       "<style scoped>\n",
       "    .dataframe tbody tr th:only-of-type {\n",
       "        vertical-align: middle;\n",
       "    }\n",
       "\n",
       "    .dataframe tbody tr th {\n",
       "        vertical-align: top;\n",
       "    }\n",
       "\n",
       "    .dataframe thead th {\n",
       "        text-align: right;\n",
       "    }\n",
       "</style>\n",
       "<table border=\"1\" class=\"dataframe\">\n",
       "  <thead>\n",
       "    <tr style=\"text-align: right;\">\n",
       "      <th></th>\n",
       "      <th>CO2EMISSIONS</th>\n",
       "      <th>FUELCONSCOMBMPG</th>\n",
       "      <th>FUELCONSCOMB</th>\n",
       "      <th>TAM_MOTOR</th>\n",
       "      <th>FUELCONSHWY</th>\n",
       "    </tr>\n",
       "  </thead>\n",
       "  <tbody>\n",
       "    <tr>\n",
       "      <th>401</th>\n",
       "      <td>177</td>\n",
       "      <td>37</td>\n",
       "      <td>7.7</td>\n",
       "      <td>2.0</td>\n",
       "      <td>6.4</td>\n",
       "    </tr>\n",
       "    <tr>\n",
       "      <th>202</th>\n",
       "      <td>177</td>\n",
       "      <td>37</td>\n",
       "      <td>7.7</td>\n",
       "      <td>1.4</td>\n",
       "      <td>6.0</td>\n",
       "    </tr>\n",
       "    <tr>\n",
       "      <th>891</th>\n",
       "      <td>313</td>\n",
       "      <td>21</td>\n",
       "      <td>13.6</td>\n",
       "      <td>3.6</td>\n",
       "      <td>10.9</td>\n",
       "    </tr>\n",
       "  </tbody>\n",
       "</table>\n",
       "</div>"
      ],
      "text/plain": [
       "     CO2EMISSIONS  FUELCONSCOMBMPG  FUELCONSCOMB  TAM_MOTOR  FUELCONSHWY\n",
       "401           177               37           7.7        2.0          6.4\n",
       "202           177               37           7.7        1.4          6.0\n",
       "891           313               21          13.6        3.6         10.9"
      ]
     },
     "execution_count": 132,
     "metadata": {},
     "output_type": "execute_result"
    }
   ],
   "source": [
    "dados2.sample(3)"
   ]
  },
  {
   "cell_type": "code",
   "execution_count": 133,
   "id": "5d051a6b",
   "metadata": {},
   "outputs": [
    {
     "data": {
      "text/html": [
       "<div>\n",
       "<style scoped>\n",
       "    .dataframe tbody tr th:only-of-type {\n",
       "        vertical-align: middle;\n",
       "    }\n",
       "\n",
       "    .dataframe tbody tr th {\n",
       "        vertical-align: top;\n",
       "    }\n",
       "\n",
       "    .dataframe thead th {\n",
       "        text-align: right;\n",
       "    }\n",
       "</style>\n",
       "<table border=\"1\" class=\"dataframe\">\n",
       "  <thead>\n",
       "    <tr style=\"text-align: right;\">\n",
       "      <th></th>\n",
       "      <th>ENGINESIZE</th>\n",
       "      <th>CYLINDERS</th>\n",
       "      <th>FUELCONSCOMB</th>\n",
       "      <th>CO2EMISSIONS</th>\n",
       "    </tr>\n",
       "  </thead>\n",
       "  <tbody>\n",
       "    <tr>\n",
       "      <th>571</th>\n",
       "      <td>2.4</td>\n",
       "      <td>4</td>\n",
       "      <td>10.0</td>\n",
       "      <td>230</td>\n",
       "    </tr>\n",
       "    <tr>\n",
       "      <th>429</th>\n",
       "      <td>2.5</td>\n",
       "      <td>4</td>\n",
       "      <td>9.9</td>\n",
       "      <td>228</td>\n",
       "    </tr>\n",
       "    <tr>\n",
       "      <th>689</th>\n",
       "      <td>3.0</td>\n",
       "      <td>6</td>\n",
       "      <td>12.7</td>\n",
       "      <td>292</td>\n",
       "    </tr>\n",
       "  </tbody>\n",
       "</table>\n",
       "</div>"
      ],
      "text/plain": [
       "     ENGINESIZE  CYLINDERS  FUELCONSCOMB  CO2EMISSIONS\n",
       "571         2.4          4          10.0           230\n",
       "429         2.5          4           9.9           228\n",
       "689         3.0          6          12.7           292"
      ]
     },
     "execution_count": 133,
     "metadata": {},
     "output_type": "execute_result"
    }
   ],
   "source": [
    "dados3.sample(3)"
   ]
  },
  {
   "cell_type": "markdown",
   "id": "199879fc",
   "metadata": {},
   "source": [
    "### 5. Análises"
   ]
  },
  {
   "cell_type": "markdown",
   "id": "c321855d",
   "metadata": {},
   "source": [
    "#### 5.1. Separe os dados de treino e teste."
   ]
  },
  {
   "cell_type": "code",
   "execution_count": 134,
   "id": "4e2a0eec",
   "metadata": {},
   "outputs": [],
   "source": [
    "# Separando as colunas de interesse\n",
    "A = np.asarray([dados3['ENGINESIZE']])\n",
    "B = np.asarray([dados3['FUELCONSCOMB']])\n",
    "X = np.asarray([dados3['CYLINDERS']])\n",
    "y = np.asarray([dados3['CO2EMISSIONS']])\n",
    "\n",
    "X_train, X_test, y_train, y_test = train_test_split(X.T, y.T, test_size = 0.2, random_state = 42)\n",
    "A_train, A_test, y_train, y_test = train_test_split(A.T, y.T, test_size = 0.2, random_state = 42)\n",
    "B_train, B_test, y_train, y_test = train_test_split(B.T, y.T, test_size = 0.2, random_state = 42)"
   ]
  },
  {
   "cell_type": "markdown",
   "id": "dc96c12c",
   "metadata": {},
   "source": [
    "#### 5.2. Import sklearn library."
   ]
  },
  {
   "cell_type": "code",
   "execution_count": 135,
   "id": "1830c56c",
   "metadata": {},
   "outputs": [],
   "source": [
    "# Importada no inicio do documento Jutyter Notebook"
   ]
  },
  {
   "cell_type": "markdown",
   "id": "fc471d2c",
   "metadata": {},
   "source": [
    "#### 5.3. Crie a variável com o modelo de Regressão Linear."
   ]
  },
  {
   "cell_type": "code",
   "execution_count": 136,
   "id": "9af20112",
   "metadata": {},
   "outputs": [],
   "source": [
    "lr = LinearRegression()\n",
    "lrA = LinearRegression()\n",
    "lrB = LinearRegression()"
   ]
  },
  {
   "cell_type": "markdown",
   "id": "b7030466",
   "metadata": {},
   "source": [
    "#### 5.4. Separe os dados de treino e teste."
   ]
  },
  {
   "cell_type": "code",
   "execution_count": 137,
   "id": "4f5b100b",
   "metadata": {},
   "outputs": [
    {
     "data": {
      "text/html": [
       "<style>#sk-container-id-7 {color: black;background-color: white;}#sk-container-id-7 pre{padding: 0;}#sk-container-id-7 div.sk-toggleable {background-color: white;}#sk-container-id-7 label.sk-toggleable__label {cursor: pointer;display: block;width: 100%;margin-bottom: 0;padding: 0.3em;box-sizing: border-box;text-align: center;}#sk-container-id-7 label.sk-toggleable__label-arrow:before {content: \"▸\";float: left;margin-right: 0.25em;color: #696969;}#sk-container-id-7 label.sk-toggleable__label-arrow:hover:before {color: black;}#sk-container-id-7 div.sk-estimator:hover label.sk-toggleable__label-arrow:before {color: black;}#sk-container-id-7 div.sk-toggleable__content {max-height: 0;max-width: 0;overflow: hidden;text-align: left;background-color: #f0f8ff;}#sk-container-id-7 div.sk-toggleable__content pre {margin: 0.2em;color: black;border-radius: 0.25em;background-color: #f0f8ff;}#sk-container-id-7 input.sk-toggleable__control:checked~div.sk-toggleable__content {max-height: 200px;max-width: 100%;overflow: auto;}#sk-container-id-7 input.sk-toggleable__control:checked~label.sk-toggleable__label-arrow:before {content: \"▾\";}#sk-container-id-7 div.sk-estimator input.sk-toggleable__control:checked~label.sk-toggleable__label {background-color: #d4ebff;}#sk-container-id-7 div.sk-label input.sk-toggleable__control:checked~label.sk-toggleable__label {background-color: #d4ebff;}#sk-container-id-7 input.sk-hidden--visually {border: 0;clip: rect(1px 1px 1px 1px);clip: rect(1px, 1px, 1px, 1px);height: 1px;margin: -1px;overflow: hidden;padding: 0;position: absolute;width: 1px;}#sk-container-id-7 div.sk-estimator {font-family: monospace;background-color: #f0f8ff;border: 1px dotted black;border-radius: 0.25em;box-sizing: border-box;margin-bottom: 0.5em;}#sk-container-id-7 div.sk-estimator:hover {background-color: #d4ebff;}#sk-container-id-7 div.sk-parallel-item::after {content: \"\";width: 100%;border-bottom: 1px solid gray;flex-grow: 1;}#sk-container-id-7 div.sk-label:hover label.sk-toggleable__label {background-color: #d4ebff;}#sk-container-id-7 div.sk-serial::before {content: \"\";position: absolute;border-left: 1px solid gray;box-sizing: border-box;top: 0;bottom: 0;left: 50%;z-index: 0;}#sk-container-id-7 div.sk-serial {display: flex;flex-direction: column;align-items: center;background-color: white;padding-right: 0.2em;padding-left: 0.2em;position: relative;}#sk-container-id-7 div.sk-item {position: relative;z-index: 1;}#sk-container-id-7 div.sk-parallel {display: flex;align-items: stretch;justify-content: center;background-color: white;position: relative;}#sk-container-id-7 div.sk-item::before, #sk-container-id-7 div.sk-parallel-item::before {content: \"\";position: absolute;border-left: 1px solid gray;box-sizing: border-box;top: 0;bottom: 0;left: 50%;z-index: -1;}#sk-container-id-7 div.sk-parallel-item {display: flex;flex-direction: column;z-index: 1;position: relative;background-color: white;}#sk-container-id-7 div.sk-parallel-item:first-child::after {align-self: flex-end;width: 50%;}#sk-container-id-7 div.sk-parallel-item:last-child::after {align-self: flex-start;width: 50%;}#sk-container-id-7 div.sk-parallel-item:only-child::after {width: 0;}#sk-container-id-7 div.sk-dashed-wrapped {border: 1px dashed gray;margin: 0 0.4em 0.5em 0.4em;box-sizing: border-box;padding-bottom: 0.4em;background-color: white;}#sk-container-id-7 div.sk-label label {font-family: monospace;font-weight: bold;display: inline-block;line-height: 1.2em;}#sk-container-id-7 div.sk-label-container {text-align: center;}#sk-container-id-7 div.sk-container {/* jupyter's `normalize.less` sets `[hidden] { display: none; }` but bootstrap.min.css set `[hidden] { display: none !important; }` so we also need the `!important` here to be able to override the default hidden behavior on the sphinx rendered scikit-learn.org. See: https://github.com/scikit-learn/scikit-learn/issues/21755 */display: inline-block !important;position: relative;}#sk-container-id-7 div.sk-text-repr-fallback {display: none;}</style><div id=\"sk-container-id-7\" class=\"sk-top-container\"><div class=\"sk-text-repr-fallback\"><pre>LinearRegression()</pre><b>In a Jupyter environment, please rerun this cell to show the HTML representation or trust the notebook. <br />On GitHub, the HTML representation is unable to render, please try loading this page with nbviewer.org.</b></div><div class=\"sk-container\" hidden><div class=\"sk-item\"><div class=\"sk-estimator sk-toggleable\"><input class=\"sk-toggleable__control sk-hidden--visually\" id=\"sk-estimator-id-7\" type=\"checkbox\" checked><label for=\"sk-estimator-id-7\" class=\"sk-toggleable__label sk-toggleable__label-arrow\">LinearRegression</label><div class=\"sk-toggleable__content\"><pre>LinearRegression()</pre></div></div></div></div></div>"
      ],
      "text/plain": [
       "LinearRegression()"
      ]
     },
     "execution_count": 137,
     "metadata": {},
     "output_type": "execute_result"
    }
   ],
   "source": [
    "# Treinar Modelo\n",
    "lr.fit(X_train, y_train)\n",
    "lrA.fit(A_train, y_train)\n",
    "lrB.fit(B_train, y_train)"
   ]
  },
  {
   "cell_type": "markdown",
   "id": "ebb29a8b",
   "metadata": {},
   "source": [
    "#### 5.5. Separe as Features de Treino e Teste."
   ]
  },
  {
   "cell_type": "code",
   "execution_count": 138,
   "id": "3f49e215",
   "metadata": {},
   "outputs": [],
   "source": [
    "# Predição dos dados de Teste\n",
    "y_pred = lr.predict(X_test)\n",
    "y_predA = lrA.predict(A_test)\n",
    "y_predB = lrB.predict(B_test)"
   ]
  },
  {
   "cell_type": "markdown",
   "id": "072d3c56",
   "metadata": {},
   "source": [
    "#### 5.6. Rode o Modelo."
   ]
  },
  {
   "cell_type": "code",
   "execution_count": 139,
   "id": "fd71e5ee",
   "metadata": {},
   "outputs": [
    {
     "name": "stdout",
     "output_type": "stream",
     "text": [
      "MSE Value: 1109.35\n",
      "RMSE value: 33.31\n",
      "R2 value: 0.73\n"
     ]
    }
   ],
   "source": [
    "# Verificação dos Erros\n",
    "mse = mean_squared_error(y_test, y_pred)\n",
    "rmse = np.sqrt(mse)\n",
    "# Calcular o R Squared\n",
    "r2 = r2_score(y_test, y_pred)\n",
    "\n",
    "# Print dos Valores\n",
    "print(\"MSE Value:\", round(mse, 2) )\n",
    "print(\"RMSE value:\", round(rmse, 2) )\n",
    "print(\"R2 value:\", round(r2, 2) )"
   ]
  },
  {
   "cell_type": "code",
   "execution_count": 140,
   "id": "32696e12",
   "metadata": {},
   "outputs": [
    {
     "name": "stdout",
     "output_type": "stream",
     "text": [
      "MSE Value: 985.94\n",
      "RMSE value: 31.4\n",
      "R2 value: 0.76\n"
     ]
    }
   ],
   "source": [
    "# Verificação dos Erros\n",
    "mseA = mean_squared_error(y_test, y_predA)\n",
    "rmseA = np.sqrt(mseA)\n",
    "# Calcular o R Squared\n",
    "r2A = r2_score(y_test, y_predA)\n",
    "\n",
    "# Print dos Valores\n",
    "print(\"MSE Value:\", round(mseA, 2) )\n",
    "print(\"RMSE value:\", round(rmseA, 2) )\n",
    "print(\"R2 value:\", round(r2A, 2) )"
   ]
  },
  {
   "cell_type": "code",
   "execution_count": 141,
   "id": "3038642b",
   "metadata": {},
   "outputs": [
    {
     "name": "stdout",
     "output_type": "stream",
     "text": [
      "MSE Value: 797.43\n",
      "RMSE value: 28.24\n",
      "R2 value: 0.81\n"
     ]
    }
   ],
   "source": [
    "# Verificação dos Erros\n",
    "mseB = mean_squared_error(y_test, y_predB)\n",
    "rmseB = np.sqrt(mseB)\n",
    "# Calcular o R Squared\n",
    "r2B = r2_score(y_test, y_predB)\n",
    "\n",
    "# Print dos Valores\n",
    "print(\"MSE Value:\", round(mseB, 2) )\n",
    "print(\"RMSE value:\", round(rmseB, 2) )\n",
    "print(\"R2 value:\", round(r2B, 2) )"
   ]
  },
  {
   "cell_type": "markdown",
   "id": "aba2dfa8",
   "metadata": {},
   "source": [
    "#### 5.7. Defina os valores para os coeficientes Theta 0: Intercepto e Theta 1: Coeficiente."
   ]
  },
  {
   "cell_type": "code",
   "execution_count": 142,
   "id": "ffce9a32",
   "metadata": {},
   "outputs": [
    {
     "name": "stdout",
     "output_type": "stream",
     "text": [
      "Coefficients:  [[29.47839879]]\n",
      "Intercept:  [86.08850036]\n",
      "\n",
      "Coefficients A:  [[38.99297872]]\n",
      "Intercept A:  [126.28970217]\n",
      "\n",
      "Coefficients B:  [[16.18090078]]\n",
      "Intercept B:  [69.10302618]\n"
     ]
    }
   ],
   "source": [
    "print ('Coefficients: ', lr.coef_)\n",
    "print ('Intercept: ', lr.intercept_)\n",
    "\n",
    "print ('\\nCoefficients A: ', lrA.coef_)\n",
    "print ('Intercept A: ', lrA.intercept_)\n",
    "\n",
    "print ('\\nCoefficients B: ', lrB.coef_)\n",
    "print ('Intercept B: ', lrB.intercept_)"
   ]
  },
  {
   "cell_type": "markdown",
   "id": "64242867",
   "metadata": {},
   "source": [
    "#### 5.8. Plot o Gráfico de Regressão Linear com a Reta Ajustada."
   ]
  },
  {
   "cell_type": "code",
   "execution_count": 143,
   "id": "2e1b72c2",
   "metadata": {},
   "outputs": [
    {
     "data": {
      "image/png": "[encoded data removed]",
      "text/plain": [
       "<Figure size 640x480 with 1 Axes>"
      ]
     },
     "metadata": {},
     "output_type": "display_data"
    }
   ],
   "source": [
    "plt.scatter(X_test, y_test, label = \"Dados de Teste\")\n",
    "plt.plot(X_test, y_pred, c = \"orange\", label = \"Dados Preditos\")\n",
    "plt.xlabel(\"CYLINDERS\")\n",
    "plt.ylabel(\"CO2EMISSIONS\")\n",
    "plt.legend()\n",
    "plt.show()"
   ]
  },
  {
   "cell_type": "code",
   "execution_count": 144,
   "id": "6f1842eb",
   "metadata": {
    "scrolled": false
   },
   "outputs": [
    {
     "data": {
      "image/png": "[encoded data removed]",
      "text/plain": [
       "<Figure size 640x480 with 1 Axes>"
      ]
     },
     "metadata": {},
     "output_type": "display_data"
    }
   ],
   "source": [
    "plt.scatter(A_test, y_test, label = \"Dados de Teste\")\n",
    "plt.plot(A_test, y_predA, c = \"orange\", label = \"Dados Preditos\")\n",
    "plt.xlabel(\"ENGINESIZE\")\n",
    "plt.ylabel(\"CO2EMISSIONS\")\n",
    "plt.legend()\n",
    "plt.show()"
   ]
  },
  {
   "cell_type": "code",
   "execution_count": 145,
   "id": "12b87206",
   "metadata": {
    "scrolled": false
   },
   "outputs": [
    {
     "data": {
      "image/png": "[encoded data removed]",
      "text/plain": [
       "<Figure size 640x480 with 1 Axes>"
      ]
     },
     "metadata": {},
     "output_type": "display_data"
    }
   ],
   "source": [
    "plt.scatter(B_test, y_test, label = \"Dados de Teste\")\n",
    "plt.plot(B_test, y_predB, c = \"orange\", label = \"Dados Preditos\")\n",
    "plt.xlabel(\"FUELCONSCOMB\")\n",
    "plt.ylabel(\"CO2EMISSIONS\")\n",
    "plt.legend()\n",
    "plt.show()"
   ]
  },
  {
   "cell_type": "markdown",
   "id": "84aa9a49",
   "metadata": {},
   "source": [
    "### 6. Defina um Baseline para que sirva de comparação"
   ]
  },
  {
   "cell_type": "markdown",
   "id": "5fab2d2b",
   "metadata": {},
   "source": [
    "##### Baseline,"
   ]
  },
  {
   "cell_type": "code",
   "execution_count": 146,
   "id": "8f8c3f66",
   "metadata": {},
   "outputs": [
    {
     "name": "stdout",
     "output_type": "stream",
     "text": [
      "Baseline.\n",
      "MSE Value: 1109.35\n",
      "RMSE value: 33.31\n",
      "R2 value: 0.73\n"
     ]
    }
   ],
   "source": [
    "print(\"Baseline.\")\n",
    "print(\"MSE Value:\", round(mse, 2) )\n",
    "print(\"RMSE value:\", round(rmse, 2) )\n",
    "print(\"R2 value:\", round(r2, 2) )"
   ]
  },
  {
   "cell_type": "markdown",
   "id": "273ef636",
   "metadata": {},
   "source": [
    "### 7. Encontre o Melhor ajuste (R2-Score) e o Erro Médio Quadrático (SME e RMSE)"
   ]
  },
  {
   "cell_type": "markdown",
   "id": "a7e6b99c",
   "metadata": {},
   "source": [
    "#### 7.1.  Rode mais de um modelo para obter o melhor ajuste."
   ]
  },
  {
   "cell_type": "code",
   "execution_count": 147,
   "id": "0a9a78d4",
   "metadata": {},
   "outputs": [
    {
     "name": "stdout",
     "output_type": "stream",
     "text": [
      "MSE Value: 985.94\n",
      "RMSE value: 31.4\n",
      "R2 value: 0.76\n"
     ]
    }
   ],
   "source": [
    "print(\"MSE Value:\", round(mseA, 2) )\n",
    "print(\"RMSE value:\", round(rmseA, 2) )\n",
    "print(\"R2 value:\", round(r2A, 2) )"
   ]
  },
  {
   "cell_type": "code",
   "execution_count": 148,
   "id": "b3d6e110",
   "metadata": {},
   "outputs": [
    {
     "name": "stdout",
     "output_type": "stream",
     "text": [
      "MSE Value: 797.43\n",
      "RMSE value: 28.24\n",
      "R2 value: 0.81\n"
     ]
    }
   ],
   "source": [
    "print(\"MSE Value:\", round(mseB, 2) )\n",
    "print(\"RMSE value:\", round(rmseB, 2) )\n",
    "print(\"R2 value:\", round(r2B, 2) )"
   ]
  },
  {
   "cell_type": "markdown",
   "id": "3b762bd1",
   "metadata": {},
   "source": [
    "### 8. Com base no algoritmo de Regressão Linear Simples, elabore outro um algoritmo de Regressão Linear Múltipla e compare a performance entre os dois Modelos."
   ]
  },
  {
   "cell_type": "code",
   "execution_count": 149,
   "id": "abef971f",
   "metadata": {},
   "outputs": [
    {
     "data": {
      "text/html": [
       "<div>\n",
       "<style scoped>\n",
       "    .dataframe tbody tr th:only-of-type {\n",
       "        vertical-align: middle;\n",
       "    }\n",
       "\n",
       "    .dataframe tbody tr th {\n",
       "        vertical-align: top;\n",
       "    }\n",
       "\n",
       "    .dataframe thead th {\n",
       "        text-align: right;\n",
       "    }\n",
       "</style>\n",
       "<table border=\"1\" class=\"dataframe\">\n",
       "  <thead>\n",
       "    <tr style=\"text-align: right;\">\n",
       "      <th></th>\n",
       "      <th>CO2EMISSIONS</th>\n",
       "      <th>FUELCONSCOMBMPG</th>\n",
       "      <th>FUELCONSCOMB</th>\n",
       "      <th>TAM_MOTOR</th>\n",
       "      <th>FUELCONSHWY</th>\n",
       "    </tr>\n",
       "  </thead>\n",
       "  <tbody>\n",
       "    <tr>\n",
       "      <th>156</th>\n",
       "      <td>221</td>\n",
       "      <td>29</td>\n",
       "      <td>9.6</td>\n",
       "      <td>2.0</td>\n",
       "      <td>7.5</td>\n",
       "    </tr>\n",
       "    <tr>\n",
       "      <th>230</th>\n",
       "      <td>244</td>\n",
       "      <td>27</td>\n",
       "      <td>10.6</td>\n",
       "      <td>3.6</td>\n",
       "      <td>8.2</td>\n",
       "    </tr>\n",
       "  </tbody>\n",
       "</table>\n",
       "</div>"
      ],
      "text/plain": [
       "     CO2EMISSIONS  FUELCONSCOMBMPG  FUELCONSCOMB  TAM_MOTOR  FUELCONSHWY\n",
       "156           221               29           9.6        2.0          7.5\n",
       "230           244               27          10.6        3.6          8.2"
      ]
     },
     "execution_count": 149,
     "metadata": {},
     "output_type": "execute_result"
    }
   ],
   "source": [
    "dados2.sample(2)"
   ]
  },
  {
   "cell_type": "code",
   "execution_count": 151,
   "id": "1278598d",
   "metadata": {},
   "outputs": [
    {
     "name": "stdout",
     "output_type": "stream",
     "text": [
      "\n",
      "MSE Value: 1026.46\n",
      "RMSE value: 32.04\n",
      "R2 value: 0.75\n",
      "\n",
      "MSE Value: 776.21\n",
      "RMSE value: 27.86\n",
      "R2 value: 0.81\n",
      "\n",
      "MSE Value: 797.43\n",
      "RMSE value: 28.24\n",
      "R2 value: 0.81\n"
     ]
    }
   ],
   "source": [
    "##############################################\n",
    "# Separando as colunas de interesse\n",
    "A = np.asarray([dados2['FUELCONSCOMBMPG']])\n",
    "B = np.asarray([dados2['FUELCONSCOMB']])\n",
    "X = np.asarray([dados2['FUELCONSHWY']])\n",
    "y = np.asarray([dados2['CO2EMISSIONS']])\n",
    "##############################################\n",
    "X_train, X_test, y_train, y_test = train_test_split(X.T, y.T, test_size = 0.2, random_state = 42)\n",
    "A_train, A_test, y_train, y_test = train_test_split(A.T, y.T, test_size = 0.2, random_state = 42)\n",
    "B_train, B_test, y_train, y_test = train_test_split(B.T, y.T, test_size = 0.2, random_state = 42)\n",
    "##############################################\n",
    "lr = LinearRegression()\n",
    "lrA = LinearRegression()\n",
    "lrB = LinearRegression()\n",
    "##############################################\n",
    "lr.fit(X_train, y_train)\n",
    "lrA.fit(A_train, y_train)\n",
    "lrB.fit(B_train, y_train)\n",
    "##############################################\n",
    "# Predição dos dados de Teste\n",
    "y_pred = lr.predict(X_test)\n",
    "y_predA = lrA.predict(A_test)\n",
    "y_predB = lrB.predict(B_test)\n",
    "##############################################\n",
    "mse = mean_squared_error(y_test, y_pred)\n",
    "rmse = np.sqrt(mse)\n",
    "# Calcular o R Squared\n",
    "r2 = r2_score(y_test, y_pred)\n",
    "\n",
    "# Print dos Valores\n",
    "print(\"\\nMSE Value:\", round(mse, 2) )\n",
    "print(\"RMSE value:\", round(rmse, 2) )\n",
    "print(\"R2 value:\", round(r2, 2) )\n",
    "##############################################\n",
    "# Verificação dos Erros\n",
    "mseA = mean_squared_error(y_test, y_predA)\n",
    "rmseA = np.sqrt(mseA)\n",
    "# Calcular o R Squared\n",
    "r2A = r2_score(y_test, y_predA)\n",
    "\n",
    "# Print dos Valores\n",
    "print(\"\\nMSE Value:\", round(mseA, 2) )\n",
    "print(\"RMSE value:\", round(rmseA, 2) )\n",
    "print(\"R2 value:\", round(r2A, 2) )\n",
    "##############################################\n",
    "# Verificação dos Erros\n",
    "mseB = mean_squared_error(y_test, y_predB)\n",
    "rmseB = np.sqrt(mseB)\n",
    "# Calcular o R Squared\n",
    "r2B = r2_score(y_test, y_predB)\n",
    "\n",
    "# Print dos Valores\n",
    "print(\"\\nMSE Value:\", round(mseB, 2) )\n",
    "print(\"RMSE value:\", round(rmseB, 2) )\n",
    "print(\"R2 value:\", round(r2B, 2) )\n",
    "##############################################"
   ]
  }
 ],
 "metadata": {
  "kernelspec": {
   "display_name": "Python 3 (ipykernel)",
   "language": "python",
   "name": "python3"
  },
  "language_info": {
   "codemirror_mode": {
    "name": "ipython",
    "version": 3
   },
   "file_extension": ".py",
   "mimetype": "text/x-python",
   "name": "python",
   "nbconvert_exporter": "python",
   "pygments_lexer": "ipython3",
   "version": "3.10.9"
  }
 },
 "nbformat": 4,
 "nbformat_minor": 5
}
